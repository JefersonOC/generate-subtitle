{
 "cells": [
  {
   "cell_type": "code",
   "execution_count": null,
   "metadata": {},
   "outputs": [],
   "source": [
    "import time\n",
    "import math\n",
    "import ffmpeg\n",
    "import nltk\n",
    "import os\n",
    "# nltk.download('popular') # only need to do this once\n",
    "\n",
    "from faster_whisper import WhisperModel\n",
    "from deep_translator import GoogleTranslator"
   ]
  },
  {
   "cell_type": "code",
   "execution_count": null,
   "metadata": {},
   "outputs": [],
   "source": [
    "# # DOWNLOAD BY URL\n",
    "# import requests\n",
    "# r = requests.get('https://05.mp4')\n",
    "# f = open('input.mp4', 'wb')\n",
    "# for chunk in r.iter_content(chunk_size=255):\n",
    "#     if chunk: \n",
    "#         f.write(chunk)\n",
    "# f.close()"
   ]
  },
  {
   "cell_type": "code",
   "execution_count": null,
   "metadata": {},
   "outputs": [],
   "source": [
    "# def convert_to_mp4(mkv_file):\n",
    "#     name, ext = os.path.splitext(mkv_file)\n",
    "#     out_name = name + \".mp4\"\n",
    "#     ffmpeg.input(mkv_file).output(out_name).run()\n",
    "#     print(\"Finished converting {}\".format(mkv_file))\n",
    "\n",
    "# convert_to_mp4(\"input.mkv\")"
   ]
  },
  {
   "cell_type": "code",
   "execution_count": null,
   "metadata": {},
   "outputs": [],
   "source": [
    "input_video = \"input.mp4\"\n",
    "input_video_name = input_video.replace(\".mp4\", \"\")"
   ]
  },
  {
   "cell_type": "code",
   "execution_count": null,
   "metadata": {},
   "outputs": [],
   "source": [
    "def extract_audio():\n",
    "    extracted_audio = f\"audio-{input_video_name}.wav\"\n",
    "    stream = ffmpeg.input(input_video)\n",
    "    stream = ffmpeg.output(stream, extracted_audio)\n",
    "    ffmpeg.run(stream, overwrite_output=True)\n",
    "    return extracted_audio"
   ]
  },
  {
   "cell_type": "code",
   "execution_count": null,
   "metadata": {},
   "outputs": [],
   "source": [
    "def transcribe(audio):\n",
    "    model = WhisperModel(\"small\", device=\"cpu\")\n",
    "    segments, info = model.transcribe(audio)\n",
    "    language = info[0]\n",
    "    print(\"Transcription language\", info[0])\n",
    "    segments = list(segments)\n",
    "    for segment in segments:\n",
    "        # print(segment)\n",
    "        print(\"[%.2fs -> %.2fs] %s\" %\n",
    "              (segment.start, segment.end, segment.text))\n",
    "    return language, segments"
   ]
  },
  {
   "cell_type": "code",
   "execution_count": null,
   "metadata": {},
   "outputs": [],
   "source": [
    "def format_time(seconds):\n",
    "    hours = math.floor(seconds / 3600)\n",
    "    seconds %= 3600\n",
    "    minutes = math.floor(seconds / 60)\n",
    "    seconds %= 60\n",
    "    milliseconds = round((seconds - math.floor(seconds)) * 1000)\n",
    "    seconds = math.floor(seconds)\n",
    "    formatted_time = f\"{hours:02d}:{minutes:02d}:{seconds:01d},{milliseconds:03d}\"\n",
    "    return formatted_time"
   ]
  },
  {
   "cell_type": "code",
   "execution_count": null,
   "metadata": {},
   "outputs": [],
   "source": [
    "def generate_subtitle_file(language, segments):\n",
    "    subtitle_file = f\"sub-{input_video_name}.{language}.srt\"\n",
    "    text = \"\"\n",
    "    for index, segment in enumerate(segments):\n",
    "        segment_start = format_time(segment.start)\n",
    "        segment_end = format_time(segment.end)\n",
    "        # fix start sub\n",
    "        if segment_start == \"00:00:0,000\":\n",
    "            tm_sec = time.strptime(segment_end, '%H:%M:%S,%f').tm_sec\n",
    "            if tm_sec >= 3:\n",
    "                segment_start = segment_end.replace(str(tm_sec), str(tm_sec - 2))\n",
    "        text += f\"{str(index+1)} \\n\"\n",
    "        text += f\"{segment_start} --> {segment_end} \\n\"\n",
    "        text += f\"{segment.text} \\n\"\n",
    "        text += \"\\n\"\n",
    "\n",
    "    f = open(subtitle_file, \"w\")\n",
    "    f.write(text)\n",
    "    f.close()\n",
    "\n",
    "    return subtitle_file"
   ]
  },
  {
   "cell_type": "code",
   "execution_count": null,
   "metadata": {},
   "outputs": [],
   "source": [
    "def add_subtitle_to_video(soft_subtitle, subtitle_file,  subtitle_language):\n",
    "    video_input_stream = ffmpeg.input(input_video)\n",
    "    subtitle_input_stream = ffmpeg.input(subtitle_file)\n",
    "    output_video = f\"output-{input_video_name}.mp4\"\n",
    "    subtitle_track_title = subtitle_file.replace(\".srt\", \"\")\n",
    "\n",
    "    if soft_subtitle:\n",
    "        stream = ffmpeg.output(\n",
    "            video_input_stream, subtitle_input_stream, output_video, **{\"c\": \"copy\", \"c:s\": \"mov_text\"},\n",
    "            **{\"metadata:s:s:0\": f\"language={subtitle_language}\",\n",
    "               \"metadata:s:s:0\": f\"title={subtitle_track_title}\"}\n",
    "        )\n",
    "        ffmpeg.run(stream, overwrite_output=True)\n",
    "    else:\n",
    "        stream = ffmpeg.output(video_input_stream, output_video,\n",
    "                               vf=f\"subtitles={subtitle_file}\")\n",
    "        ffmpeg.run(stream, overwrite_output=True)"
   ]
  },
  {
   "cell_type": "code",
   "execution_count": null,
   "metadata": {},
   "outputs": [],
   "source": [
    "# GENERATE .SRT\n",
    "extracted_audio = extract_audio()\n",
    "language, segments = transcribe(audio=extracted_audio)\n",
    "subtitle_file = generate_subtitle_file(\n",
    "    language=language,\n",
    "    segments=segments\n",
    ")"
   ]
  },
  {
   "cell_type": "code",
   "execution_count": null,
   "metadata": {},
   "outputs": [],
   "source": [
    "# TRANSLATE\n",
    "with open(subtitle_file, \"r\", encoding=\"utf-8\") as f:\n",
    "    text = f.read().strip()\n",
    "\n",
    "x = nltk.tokenize.sent_tokenize(text)\n",
    "full_translated = \"\"\n",
    "for sentence in x:\n",
    "    sentence += \"\\n\"\n",
    "    # print(sentence)\n",
    "    translated = GoogleTranslator(\n",
    "        source='english', target='portuguese').translate(sentence)\n",
    "    translated += \"\\n\\n\"\n",
    "    # print(translated)\n",
    "    full_translated += translated\n",
    "\n",
    "subtitle_file = f\"sub-{input_video_name}.pt.srt\"\n",
    "f = open(subtitle_file, \"w\")\n",
    "f.write(full_translated)\n",
    "f.close()"
   ]
  },
  {
   "cell_type": "code",
   "execution_count": null,
   "metadata": {},
   "outputs": [],
   "source": [
    "# BUILD FINAL VIDEO\n",
    "add_subtitle_to_video(\n",
    "    soft_subtitle=True,\n",
    "    subtitle_file=subtitle_file,\n",
    "    subtitle_language='portuguese'\n",
    ")"
   ]
  }
 ],
 "metadata": {
  "kernelspec": {
   "display_name": "Python 3",
   "language": "python",
   "name": "python3"
  },
  "language_info": {
   "codemirror_mode": {
    "name": "ipython",
    "version": 3
   },
   "file_extension": ".py",
   "mimetype": "text/x-python",
   "name": "python",
   "nbconvert_exporter": "python",
   "pygments_lexer": "ipython3",
   "version": "3.10.12"
  }
 },
 "nbformat": 4,
 "nbformat_minor": 2
}
